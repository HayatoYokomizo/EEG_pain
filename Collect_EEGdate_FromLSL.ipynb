{
 "cells": [
  {
   "cell_type": "code",
   "execution_count": 3,
   "id": "929fdc6a",
   "metadata": {
    "scrolled": true
   },
   "outputs": [
    {
     "name": "stdout",
     "output_type": "stream",
     "text": [
      "Connected to Emotiv EPOC+ stream.\n"
     ]
    }
   ],
   "source": [
    "import csv\n",
    "import time\n",
    "from pylsl import StreamInlet, resolve_byprop\n",
    "from datetime import datetime\n",
    "\n",
    "def lsl_to_local_datetime(lsl_timestamp):\n",
    "    return datetime.fromtimestamp(lsl_timestamp)\n",
    "\n",
    "# CSVファイルにデータを保存する関数\n",
    "def save_data_to_csv(timestamp, data, filename):\n",
    "    fieldnames = ['timestamp', 'AF3', 'F7', 'F3', 'FC5', 'T7', 'P7', 'O1', 'O2', 'P8', 'T8', 'FC6', 'F4', 'F8', 'AF4', 'gyro_X', 'gyro_Y', 'gyro_Z', 'unknown_1', 'unknown_2']\n",
    "    with open(filename, 'a', newline='') as csvfile:\n",
    "        writer = csv.DictWriter(csvfile, fieldnames=fieldnames)\n",
    "\n",
    "        # ヘッダーがない場合は、ヘッダーを書き込む\n",
    "        csvfile.seek(0, 2)\n",
    "        if csvfile.tell() == 0:\n",
    "            writer.writeheader()\n",
    "\n",
    "        row = {'timestamp': lsl_to_local_datetime(timestamp)}\n",
    "        row.update({fieldnames[i + 1]: data[i] for i in range(len(data))})\n",
    "        writer.writerow(row)\n",
    "\n",
    "# EPOC+のストリームを探す\n",
    "streams = resolve_byprop('type', 'EEG', timeout=5)\n",
    "\n",
    "if not streams:\n",
    "    raise RuntimeError(\"No EEG stream found. Make sure the EmotivPro LSL Connector is running.\")\n",
    "\n",
    "# ストリームを開く\n",
    "inlet = StreamInlet(streams[0])\n",
    "\n",
    "print(\"Connected to Emotiv EPOC+ stream.\")\n",
    "\n",
    "# CSVファイル名を指定\n",
    "filename = 'epoc_plus_data.csv'\n",
    "\n",
    "# データを取得し、CSVファイルに記録する\n",
    "duration = 10  # 収集するデータの期間（秒）\n",
    "start_time = time.time()\n",
    "\n",
    "while time.time() - start_time < duration:\n",
    "    sample, timestamp = inlet.pull_sample()\n",
    "    save_data_to_csv(timestamp, sample, filename)\n",
    "    time.sleep(0.1)\n"
   ]
  },
  {
   "cell_type": "code",
   "execution_count": 2,
   "id": "965e3d1c",
   "metadata": {},
   "outputs": [
    {
     "name": "stdout",
     "output_type": "stream",
     "text": [
      "Modified CSV file saved as 'epoc_plus_data_modified.csv'.\n"
     ]
    }
   ],
   "source": [
    "import csv\n",
    "import numpy as np\n",
    "import matplotlib.pyplot as plt\n",
    "import csv\n",
    "import os\n",
    "\n",
    "input_filename = 'epoc_plus_data.csv'\n",
    "output_filename = 'epoc_plus_data_modified.csv'\n",
    "\n",
    "old_fieldnames = ['timestamp', 'ch_1', 'ch_2', 'ch_3', 'ch_4', 'ch_5', 'ch_6', 'ch_7', 'ch_8', 'ch_9', 'ch_10', 'ch_11', 'ch_12', 'ch_13', 'ch_14', 'ch_15', 'ch_16', 'ch_17', 'ch_18', 'ch_19']\n",
    "new_fieldnames = ['timestamp', 'AF3', 'F7', 'F3', 'FC5', 'T7', 'P7', 'O1', 'O2', 'P8', 'T8', 'FC6', 'F4', 'F8', 'AF4', 'gyro_X', 'gyro_Y', 'gyro_Z', 'unknown_1', 'unknown_2']\n",
    "\n",
    "if not os.path.exists(input_filename):\n",
    "    print(\"Input file '{}' does not exist.\".format(input_filename))\n",
    "else:\n",
    "    with open(input_filename, 'r') as input_csvfile, open(output_filename, 'w', newline='') as output_csvfile:\n",
    "        reader = csv.DictReader(input_csvfile, fieldnames=old_fieldnames)\n",
    "        writer = csv.DictWriter(output_csvfile, fieldnames=new_fieldnames)\n",
    "\n",
    "        # Write the header with the new fieldnames\n",
    "        writer.writeheader()\n",
    "\n",
    "        # Skip the header in the input file\n",
    "        next(reader)\n",
    "\n",
    "        # Write the remaining rows\n",
    "        for row in reader:\n",
    "            writer.writerow({new_fieldnames[i]: row[old_fieldnames[i]] for i in range(len(new_fieldnames))})\n",
    "\n",
    "    print(\"Modified CSV file saved as '{}'.\".format(output_filename))\n",
    "\n",
    "# CSVファイルからデータを読み込む関数\n",
    "def load_data_from_csv(filename):\n",
    "    data = []\n",
    "    with open(filename, 'r') as csvfile:\n",
    "        reader = csv.DictReader(csvfile)\n",
    "        for row in reader:\n",
    "            data.append(row)\n",
    "\n",
    "    return data\n",
    "\n",
    "# データをプロットする関数\n",
    "def plot_data(data, channels):\n",
    "    timestamps = [datetime.strptime(row['timestamp'], \"%Y-%m-%d %H:%M:%S.%f\") for row in data]\n",
    "    plt.figure(figsize=(15, 8))\n",
    "\n",
    "    for channel in channels:\n",
    "        values = [float(row[channel]) for row in data]\n",
    "        plt.plot(timestamps, values, label=channel)\n",
    "\n",
    "    plt.xlabel('Timestamp')\n",
    "    plt.ylabel('Sensor Value')\n",
    "    plt.title('Brainwave Data')\n",
    "    plt.legend()\n",
    "    plt.show()\n",
    "\n",
    "# 実行\n",
    "if __name__ == \"__main__\":\n",
    "    filename = 'epoc_plus_data_modified.csv'\n",
    "    data = load_data_from_csv(filename)\n",
    "\n",
    "    # 選択したチャンネルをプロット\n",
    "    channels = ['AF3', 'F7', 'F3', 'FC5', 'T7', 'P7', 'O1', 'O2', 'P8', 'T8', 'FC6', 'F4', 'F8', 'AF4']\n"
   ]
  },
  {
   "cell_type": "code",
   "execution_count": null,
   "id": "9e94cbc9",
   "metadata": {
    "collapsed": true
   },
   "outputs": [],
   "source": []
  }
 ],
 "metadata": {
  "kernelspec": {
   "display_name": "Python 3 (ipykernel)",
   "language": "python",
   "name": "python3"
  },
  "language_info": {
   "codemirror_mode": {
    "name": "ipython",
    "version": 3
   },
   "file_extension": ".py",
   "mimetype": "text/x-python",
   "name": "python",
   "nbconvert_exporter": "python",
   "pygments_lexer": "ipython3",
   "version": "3.10.10"
  }
 },
 "nbformat": 4,
 "nbformat_minor": 5
}
