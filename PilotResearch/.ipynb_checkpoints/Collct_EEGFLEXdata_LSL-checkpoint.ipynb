{
 "cells": [
  {
   "cell_type": "code",
   "execution_count": 16,
   "id": "97642382",
   "metadata": {},
   "outputs": [],
   "source": [
    "import csv\n",
    "import time\n",
    "from pylsl import StreamInlet, resolve_byprop\n",
    "from datetime import datetime, timedelta\n",
    "import matplotlib.pyplot as plt\n",
    "import pandas as pd\n",
    "import math\n",
    "import sys\n",
    "\n",
    "# マーカー付きデータをｃｓｖ保存\n",
    "def save_data_to_csv(start_time, timestamp, sample, filename):\n",
    "    # 開始と終了の3つの要素を削除し、タイムスタンプを0から始まるように修正\n",
    "    sample = sample[3:-2]\n",
    "    timestamp -= start_time\n",
    "    \n",
    "    # DataFrameを作成し、データを追記していく\n",
    "    # sampleはリスト形式でデータが渡される\n",
    "    # マーカーもこのDataFrameに格納\n",
    "    # タイムスタンプを先頭に追加\n",
    "    df = pd.DataFrame([[timestamp] + sample])  \n",
    "\n",
    "    with open(filename, 'a') as f:\n",
    "        df.to_csv(f, header=f.tell() == 0, index=False, lineterminator='\\n')  # headerはファイルの先頭だけに出力\n",
    "\n",
    "\n",
    "#CSVファイルからデータを読み込む関数\n",
    "def load_data_from_csv(filename):\n",
    "    data = []\n",
    "    with open(filename, 'r') as csvfile:\n",
    "        reader = csv.DictReader(csvfile)\n",
    "        for row in reader:\n",
    "            data.append(row)\n",
    "\n",
    "    return data\n",
    "\n",
    "# データをプロットする関数\n",
    "def plot_data(data, channels):\n",
    "    timestamps = [float(row['timestamp']) for row in data]\n",
    "\n",
    "    plt.figure(figsize=(15, 8))\n",
    "\n",
    "    for channel in channels:\n",
    "        values = [float(row[channel]) for row in data]\n",
    "        plt.plot(timestamps, values, label=channel)\n",
    "\n",
    "    plt.xlabel('Timestamp (s)')\n",
    "    plt.ylabel('Sensor Value')\n",
    "    plt.title('Brainwave Data')\n",
    "    plt.legend()\n",
    "    plt.show()\n",
    "    \n",
    "    \n",
    "def lsl_to_local_datetime(lsl_timestamp):\n",
    "    return datetime.fromtimestamp(lsl_timestamp)\n",
    "\n",
    "\n",
    "# 256Hzで収集（デフォルト）\n",
    "def collect_EEG(filename, duration):\n",
    "    # EPOCXのストリームを探す\n",
    "    streams = resolve_byprop('type', 'EEG', timeout=5)\n",
    "\n",
    "    if not streams:\n",
    "        raise RuntimeError(\"No EEG stream found. Make sure the EmotivPro LSL Connector is running.\")\n",
    "\n",
    "    # ストリームを開く\n",
    "    inlet = StreamInlet(streams[0])\n",
    "\n",
    "    print(\"Connected to Emotiv EPOC FLEX stream.\")\n",
    "\n",
    "    # ファイルを上書きモードで開く\n",
    "    with open(filename, 'w') as f:\n",
    "        # チャンネル名のラベルを設定\n",
    "        header = ['Timestamp'] + ['AF3', 'F7', 'F3', 'FC5', 'T7', 'P7', 'O1', 'O2', 'P8', 'T8', 'FC6', 'F4', 'F8', 'AF4']\n",
    "        f.write(','.join(header) + '\\n')\n",
    "\n",
    "    # データを取得し、CSVファイルに記録する\n",
    "    start_time = None\n",
    "    while True:\n",
    "        sample, timestamp = inlet.pull_sample()\n",
    "        if start_time is None:\n",
    "            start_time = timestamp\n",
    "        elapsed_time = timestamp - start_time\n",
    "            \n",
    "        save_data_to_csv(start_time, timestamp, sample, filename)\n",
    "            \n",
    "        if elapsed_time >= duration:\n",
    "            break\n",
    "    return sample"
   ]
  },
  {
   "cell_type": "code",
   "execution_count": null,
   "id": "0e06f9ab",
   "metadata": {},
   "outputs": [
    {
     "name": "stdout",
     "output_type": "stream",
     "text": [
      "Connected to Emotiv EPOC FLEX stream.\n"
     ]
    }
   ],
   "source": [
    "# CSVファイル名を指定\n",
    "filename = 'PilotResearch_RH1.csv'\n",
    "#収集するデータの期間（秒）\n",
    "duration = 5\n",
    "#EEGを収集し、csvファイルに保存\n",
    "collect_EEG(filename, duration)\n",
    "\n",
    "# 選択したチャンネル名\n",
    "#channels = ['AF3', 'F7', 'F3', 'FC5', 'T7', 'P7', 'O1', 'O2', 'P8', 'T8', 'FC6', 'F4', 'F8', 'AF4']\n",
    "#data = load_data_from_csv(filename)\n",
    "#plot_data(data, channels)"
   ]
  },
  {
   "cell_type": "code",
   "execution_count": 15,
   "id": "68e9a608",
   "metadata": {},
   "outputs": [
    {
     "ename": "NameError",
     "evalue": "name 'inlet' is not defined",
     "output_type": "error",
     "traceback": [
      "\u001b[1;31m---------------------------------------------------------------------------\u001b[0m",
      "\u001b[1;31mNameError\u001b[0m                                 Traceback (most recent call last)",
      "Cell \u001b[1;32mIn[15], line 1\u001b[0m\n\u001b[1;32m----> 1\u001b[0m \u001b[43minlet\u001b[49m\n",
      "\u001b[1;31mNameError\u001b[0m: name 'inlet' is not defined"
     ]
    }
   ],
   "source": [
    "inlet"
   ]
  },
  {
   "cell_type": "code",
   "execution_count": null,
   "id": "cfc6e58c",
   "metadata": {},
   "outputs": [],
   "source": []
  }
 ],
 "metadata": {
  "kernelspec": {
   "display_name": "Python 3 (ipykernel)",
   "language": "python",
   "name": "python3"
  },
  "language_info": {
   "codemirror_mode": {
    "name": "ipython",
    "version": 3
   },
   "file_extension": ".py",
   "mimetype": "text/x-python",
   "name": "python",
   "nbconvert_exporter": "python",
   "pygments_lexer": "ipython3",
   "version": "3.10.9"
  }
 },
 "nbformat": 4,
 "nbformat_minor": 5
}
