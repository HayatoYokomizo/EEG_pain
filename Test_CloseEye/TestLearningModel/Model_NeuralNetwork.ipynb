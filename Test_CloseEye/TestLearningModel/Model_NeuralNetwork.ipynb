{
 "cells": [
  {
   "cell_type": "code",
   "execution_count": 1,
   "id": "5e626ac2",
   "metadata": {},
   "outputs": [
    {
     "name": "stderr",
     "output_type": "stream",
     "text": [
      "2023-05-24 18:15:15.657142: I tensorflow/core/platform/cpu_feature_guard.cc:193] This TensorFlow binary is optimized with oneAPI Deep Neural Network Library (oneDNN) to use the following CPU instructions in performance-critical operations:  SSE4.1 SSE4.2 AVX AVX2 FMA\n",
      "To enable them in other operations, rebuild TensorFlow with the appropriate compiler flags.\n"
     ]
    }
   ],
   "source": [
    "import pandas as pd\n",
    "import numpy as np\n",
    "from sklearn.model_selection import train_test_split\n",
    "from sklearn.preprocessing import StandardScaler\n",
    "from tensorflow.keras.models import Sequential\n",
    "from tensorflow.keras.layers import Dense, LSTM\n",
    "from tensorflow.keras.utils import to_categorical\n",
    "import tensorflow as tf\n",
    "\n",
    "# モデル定義\n",
    "def create_model():\n",
    "    model = Sequential()\n",
    "    model.add(Dense(1024,activation=\"relu\", input_shape=(14,256))) # tf.keras.layers.Conv1D \n",
    "    model.add(tf.keras.layers.Flatten())\n",
    "    model.add(tf.keras.layers.Dense(512,activation=\"relu\")) \n",
    "    model.add(tf.keras.layers.Dense(2,activation=\"softmax\"))\n",
    "    \n",
    "    model.compile(loss='binary_crossentropy', optimizer='adam', metrics=['accuracy'])  # 損失関数はbinary_crossentropy\n",
    "    return model"
   ]
  },
  {
   "cell_type": "code",
   "execution_count": 2,
   "id": "79f3463d",
   "metadata": {
    "scrolled": true
   },
   "outputs": [
    {
     "name": "stdout",
     "output_type": "stream",
     "text": [
      "Epoch 1/10\n",
      "4/4 [==============================] - 1s 3ms/step - loss: 1.0355 - accuracy: 0.5000\n",
      "Epoch 2/10\n",
      "4/4 [==============================] - 0s 2ms/step - loss: 0.0242 - accuracy: 1.0000\n",
      "Epoch 3/10\n",
      "4/4 [==============================] - 0s 2ms/step - loss: 4.2991e-05 - accuracy: 1.0000\n",
      "Epoch 4/10\n",
      "4/4 [==============================] - 0s 2ms/step - loss: 9.1638e-06 - accuracy: 1.0000\n",
      "Epoch 5/10\n",
      "4/4 [==============================] - 0s 2ms/step - loss: 1.8803e-06 - accuracy: 1.0000\n",
      "Epoch 6/10\n",
      "4/4 [==============================] - 0s 2ms/step - loss: 2.7761e-07 - accuracy: 1.0000\n",
      "Epoch 7/10\n",
      "4/4 [==============================] - 0s 2ms/step - loss: 1.3592e-07 - accuracy: 1.0000\n",
      "Epoch 8/10\n",
      "4/4 [==============================] - 0s 2ms/step - loss: 6.2197e-08 - accuracy: 1.0000\n",
      "Epoch 9/10\n",
      "4/4 [==============================] - 0s 2ms/step - loss: 2.9687e-08 - accuracy: 1.0000\n",
      "Epoch 10/10\n",
      "4/4 [==============================] - 0s 2ms/step - loss: 1.8201e-08 - accuracy: 1.0000\n",
      "1/1 [==============================] - 0s 87ms/step - loss: 1.6796e-08 - accuracy: 1.0000\n",
      "Training Accuracy: 100.0\n",
      "1/1 [==============================] - 0s 14ms/step - loss: 3.1289e-13 - accuracy: 1.0000\n",
      "Test Accuracy: 100.0\n"
     ]
    }
   ],
   "source": [
    "# データの読み込み\n",
    "df = pd.read_csv('Raw.csv')\n",
    "\n",
    "# 1秒ごとのデータに分割\n",
    "n_samples_per_second = 256  # 256Hzのサンプリングレート\n",
    "total_seconds = 10  # 全体の秒数\n",
    "\n",
    "# ラベルの作成（5秒閉じ、5秒開け）\n",
    "labels_close = [0] * 5 \n",
    "labels_open = [1] * 5 \n",
    "labels = labels_close + labels_open\n",
    "labels = to_categorical(labels)\n",
    "\n",
    "# データとラベルを1秒ごとに分割\n",
    "X = np.array([df.iloc[i*n_samples_per_second:(i+1)*n_samples_per_second, :-1].values for i in range(total_seconds)])\n",
    "\n",
    "X = X.transpose(2,0,1)\n",
    "for i in range(14):\n",
    "    scaler = StandardScaler()\n",
    "    X[i] = scaler.fit_transform(X[i])\n",
    "X = X.transpose(1,0,2)\n",
    "\n",
    "# 学習用とテスト用に分割\n",
    "X_train, X_test, y_train, y_test = train_test_split(X, labels, test_size=0.2, random_state=0)\n",
    "\n",
    "# モデル作成\n",
    "model = create_model()\n",
    "\n",
    "# 学習\n",
    "model.fit(X_train, y_train, epochs=10, batch_size=2, verbose=1)\n",
    "\n",
    "# 訓練データに対する評価\n",
    "train_scores = model.evaluate(X_train, y_train, verbose=1)\n",
    "print(f\"Training Accuracy: {train_scores[1]*100}\")\n",
    "\n",
    "# テストデータに対する評価\n",
    "test_scores = model.evaluate(X_test, y_test, verbose=1)\n",
    "print(f\"Test Accuracy: {test_scores[1]*100}\")\n"
   ]
  },
  {
   "cell_type": "code",
   "execution_count": 3,
   "id": "ae9f034b",
   "metadata": {},
   "outputs": [
    {
     "data": {
      "text/plain": [
       "(10, 14, 256)"
      ]
     },
     "execution_count": 3,
     "metadata": {},
     "output_type": "execute_result"
    }
   ],
   "source": [
    "np.array(X).shape"
   ]
  },
  {
   "cell_type": "code",
   "execution_count": 4,
   "id": "c427afcb",
   "metadata": {},
   "outputs": [
    {
     "data": {
      "text/plain": [
       "(8, 2)"
      ]
     },
     "execution_count": 4,
     "metadata": {},
     "output_type": "execute_result"
    }
   ],
   "source": [
    "y_train.shape"
   ]
  },
  {
   "cell_type": "code",
   "execution_count": 5,
   "id": "446e4a7b",
   "metadata": {},
   "outputs": [
    {
     "name": "stdout",
     "output_type": "stream",
     "text": [
      "Model: \"sequential\"\n",
      "_________________________________________________________________\n",
      " Layer (type)                Output Shape              Param #   \n",
      "=================================================================\n",
      " dense (Dense)               (None, 14, 1024)          263168    \n",
      "                                                                 \n",
      " flatten (Flatten)           (None, 14336)             0         \n",
      "                                                                 \n",
      " dense_1 (Dense)             (None, 512)               7340544   \n",
      "                                                                 \n",
      " dense_2 (Dense)             (None, 2)                 1026      \n",
      "                                                                 \n",
      "=================================================================\n",
      "Total params: 7,604,738\n",
      "Trainable params: 7,604,738\n",
      "Non-trainable params: 0\n",
      "_________________________________________________________________\n"
     ]
    }
   ],
   "source": [
    "model.summary()"
   ]
  },
  {
   "cell_type": "code",
   "execution_count": null,
   "id": "07d246c1",
   "metadata": {},
   "outputs": [],
   "source": []
  }
 ],
 "metadata": {
  "kernelspec": {
   "display_name": "Python 3 (ipykernel)",
   "language": "python",
   "name": "python3"
  },
  "language_info": {
   "codemirror_mode": {
    "name": "ipython",
    "version": 3
   },
   "file_extension": ".py",
   "mimetype": "text/x-python",
   "name": "python",
   "nbconvert_exporter": "python",
   "pygments_lexer": "ipython3",
   "version": "3.10.10"
  }
 },
 "nbformat": 4,
 "nbformat_minor": 5
}
