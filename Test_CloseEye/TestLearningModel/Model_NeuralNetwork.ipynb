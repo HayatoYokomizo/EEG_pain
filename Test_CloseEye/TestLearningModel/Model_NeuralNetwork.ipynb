{
 "cells": [
  {
   "cell_type": "code",
   "execution_count": 3,
   "id": "5e626ac2",
   "metadata": {},
   "outputs": [],
   "source": [
    "import pandas as pd\n",
    "import numpy as np\n",
    "from sklearn.model_selection import train_test_split\n",
    "from sklearn.preprocessing import StandardScaler\n",
    "from tensorflow.keras.models import Sequential\n",
    "from tensorflow.keras.layers import Dense, LSTM\n",
    "from tensorflow.keras.utils import to_categorical\n",
    "import tensorflow as tf\n",
    "import os\n",
    "os.environ[\"TF_FORCE_GPU_ALLOW_GROWTH\"]= \"true\"\n",
    "\n",
    "# モデル定義\n",
    "def create_model():\n",
    "    model = Sequential()\n",
    "    model.add(Dense(1024,activation=\"relu\", input_shape=(14,256))) \n",
    "    model.add(tf.keras.layers.Flatten())\n",
    "    model.add(tf.keras.layers.Dense(512,activation=\"relu\")) \n",
    "    model.add(tf.keras.layers.Dense(2,activation=\"softmax\"))\n",
    "    \n",
    "    model.compile(loss='binary_crossentropy', optimizer='adam', metrics=['accuracy'])  # 損失関数はbinary_crossentropy\n",
    "    return model"
   ]
  },
  {
   "cell_type": "code",
   "execution_count": null,
   "id": "103953d1",
   "metadata": {},
   "outputs": [],
   "source": [
    "model.summary()"
   ]
  },
  {
   "cell_type": "code",
   "execution_count": 4,
   "id": "79f3463d",
   "metadata": {
    "scrolled": true
   },
   "outputs": [
    {
     "name": "stdout",
     "output_type": "stream",
     "text": [
      "Epoch 1/10\n"
     ]
    },
    {
     "name": "stderr",
     "output_type": "stream",
     "text": [
      "2023-05-26 16:51:36.088724: W tensorflow/core/common_runtime/gpu/gpu_bfc_allocator.cc:42] Overriding orig_value setting because the TF_FORCE_GPU_ALLOW_GROWTH environment variable is set. Original config value was 0.\n"
     ]
    },
    {
     "name": "stdout",
     "output_type": "stream",
     "text": [
      "4/4 [==============================] - 1s 3ms/step - loss: 4.4096 - accuracy: 0.6250\n",
      "Epoch 2/10\n",
      "4/4 [==============================] - 0s 2ms/step - loss: 0.4399 - accuracy: 0.8750\n",
      "Epoch 3/10\n",
      "4/4 [==============================] - 0s 2ms/step - loss: 1.5623e-04 - accuracy: 1.0000\n",
      "Epoch 4/10\n",
      "4/4 [==============================] - 0s 2ms/step - loss: 0.2182 - accuracy: 1.0000\n",
      "Epoch 5/10\n",
      "4/4 [==============================] - 0s 2ms/step - loss: 1.1806e-07 - accuracy: 1.0000\n",
      "Epoch 6/10\n",
      "4/4 [==============================] - 0s 2ms/step - loss: 2.1523e-08 - accuracy: 1.0000\n",
      "Epoch 7/10\n",
      "4/4 [==============================] - 0s 2ms/step - loss: 3.9588e-09 - accuracy: 1.0000\n",
      "Epoch 8/10\n",
      "4/4 [==============================] - 0s 2ms/step - loss: 9.9084e-10 - accuracy: 1.0000\n",
      "Epoch 9/10\n",
      "4/4 [==============================] - 0s 2ms/step - loss: 5.6733e-10 - accuracy: 1.0000\n",
      "Epoch 10/10\n",
      "4/4 [==============================] - 0s 2ms/step - loss: 3.8214e-10 - accuracy: 1.0000\n",
      "1/1 [==============================] - 0s 88ms/step - loss: 2.9874e-10 - accuracy: 1.0000\n",
      "Training Accuracy: 100.0\n",
      "1/1 [==============================] - 0s 13ms/step - loss: 0.0028 - accuracy: 1.0000\n",
      "Test Accuracy: 100.0\n"
     ]
    }
   ],
   "source": [
    "\n",
    "# データの読み込み\n",
    "df = pd.read_csv('Raw.csv')\n",
    "\n",
    "# 1秒ごとのデータに分割\n",
    "ch_count = 14\n",
    "n_samples_per_second = 256  # 256Hzのサンプリングレート\n",
    "total_seconds = 10  # 全体の秒数\n",
    "\n",
    "# ラベルの作成（5秒閉じ、5秒開け）\n",
    "labels_close = [0] * 5 \n",
    "labels_open = [1] * 5 \n",
    "labels = labels_close + labels_open\n",
    "labels = to_categorical(labels)\n",
    "\n",
    "# データとラベルを1秒ごとに分割\n",
    "X = np.array([df.iloc[i*n_samples_per_second:(i+1)*n_samples_per_second, :-1].values for i in range(total_seconds)])\n",
    "\n",
    "X = X.transpose(2,0,1)\n",
    "for i in range(ch_count):\n",
    "    scaler = StandardScaler()\n",
    "    X[i] = scaler.fit_transform(X[i])\n",
    "X = X.transpose(1,0,2)\n",
    "\n",
    "# 学習用とテスト用に分割\n",
    "X_train, X_test, y_train, y_test = train_test_split(X, labels, test_size=0.2, random_state=0)\n",
    "\n",
    "# モデル作成\n",
    "model = create_model()\n",
    "\n",
    "# 学習\n",
    "model.fit(X_train, y_train, epochs=10, batch_size=2, verbose=1)\n",
    "\n",
    "# 訓練データに対する評価\n",
    "train_scores = model.evaluate(X_train, y_train, verbose=1)\n",
    "print(f\"Training Accuracy: {train_scores[1]*100}\")\n",
    "\n",
    "# テストデータに対する評価\n",
    "test_scores = model.evaluate(X_test, y_test, verbose=1)\n",
<<<<<<< HEAD
    "print(f\"Test Accuracy: {test_scores[1]*100}\")\n",
    "\n",
    "#モデルを保存する\n",
    "model.save('Model_NeuralNetwork.h5')\n"
=======
    "print(f\"Test Accuracy: {test_scores[1]*100}\")\n"
>>>>>>> cb86e83a34df826f9d6b6657b246d375aab55c10
   ]
  },
  {
   "cell_type": "code",
   "execution_count": null,
   "id": "f900ec0d",
   "metadata": {},
   "outputs": [],
   "source": []
  }
 ],
 "metadata": {
  "kernelspec": {
   "display_name": "Python 3 (ipykernel)",
   "language": "python",
   "name": "python3"
  },
  "language_info": {
   "codemirror_mode": {
    "name": "ipython",
    "version": 3
   },
   "file_extension": ".py",
   "mimetype": "text/x-python",
   "name": "python",
   "nbconvert_exporter": "python",
   "pygments_lexer": "ipython3",
   "version": "3.9.7"
  }
 },
 "nbformat": 4,
 "nbformat_minor": 5
}
