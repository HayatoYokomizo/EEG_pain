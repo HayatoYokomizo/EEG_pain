{
 "cells": [
  {
   "cell_type": "code",
   "execution_count": 1,
   "id": "6564cc39",
   "metadata": {},
   "outputs": [],
   "source": [
    "from sklearn import svm\n",
    "from sklearn.model_selection import train_test_split\n",
    "from sklearn.preprocessing import StandardScaler\n",
    "from sklearn import metrics\n",
    "import pandas as pd\n",
    "import numpy as np\n",
    "import matplotlib.pyplot as plt\n",
    "\n",
    "def normalize_per_state(df, start, end):\n",
    "    scaler = StandardScaler()\n",
    "    df.iloc[start:end, :] = scaler.fit_transform(df.iloc[start:end, :])\n",
    "    return df\n",
    "\n",
    "raw = 0 #rawデータならば１、Bandなら０\n",
    "\n",
    "# データの読み込み\n",
    "if(raw):\n",
    "    df = pd.read_csv('Raw.csv')\n",
    "else:\n",
    "    df = pd.read_csv('Band.csv')\n",
    "    \n",
    "# チャンネルごとに正規化\n",
    "scaler = StandardScaler()\n",
    "for column in df.columns[:-1]:  # 'State'列を除くすべての列\n",
    "    df[column] = scaler.fit_transform(df[column].values.reshape(-1, 1))\n",
    "\n",
    "# 1秒ごとのデータに分割\n",
    "n_samples_per_second = 256  # 256Hzのサンプリングレート\n",
    "total_seconds = 10  # 全体の秒数"
   ]
  },
  {
   "cell_type": "code",
   "execution_count": 2,
   "id": "9b1bce6c",
   "metadata": {},
   "outputs": [],
   "source": [
    "def plot_importance(raw, clf):\n",
    "    if(raw):\n",
    "        #14chデータ\n",
    "\n",
    "        # 特徴量（チャンネル）の名前\n",
    "        channel_names = ['AF3', 'F7', 'F3', 'FC5', 'T7', 'P7', 'O1', 'O2', 'P8', 'T8', 'FC6', 'F4', 'F8', 'AF4']\n",
    "\n",
    "        # 特徴量の重要度\n",
    "        feature_importance = np.abs(clf.coef_[0])\n",
    "\n",
    "        # 名前と重要度をデータフレームにまとめる\n",
    "        importance_df = pd.DataFrame({\n",
    "            'Channel': channel_names,\n",
    "            'Importance': feature_importance\n",
    "        })\n",
    "\n",
    "        # 降順にソート\n",
    "        importance_df = importance_df.sort_values(by='Importance', ascending=False)\n",
    "\n",
    "        # 棒グラフの表示\n",
    "        plt.figure(figsize=(10, 6))\n",
    "        plt.barh(importance_df['Channel'], importance_df['Importance'], color='skyblue')\n",
    "        plt.xlabel(\"Feature Importance\")\n",
    "        plt.title(\"Feature importance of each EEG channel\")\n",
    "        plt.gca().invert_yaxis()  # 上位の特徴量を上に表示\n",
    "        plt.show()\n",
    "    else:\n",
    "        #bandデータ\n",
    "        # 特徴量（チャンネル）の名前\n",
    "        channel = ['AF3', 'F7', 'F3', 'FC5', 'T7', 'P7', 'O1', 'O2', 'P8', 'T8', 'FC6', 'F4', 'F8', 'AF4']\n",
    "        band_filter = [\"Delta\", \"Theta\", \"Alpha\", \"Beta\"]\n",
    "\n",
    "        channel_names = []\n",
    "        ch_len = 14\n",
    "        for i in range(ch_len):\n",
    "            for j in range(len(band_filter)):\n",
    "                channel_names.append(channel[i] + band_filter[j])\n",
    "\n",
    "        # 特徴量の重要度\n",
    "        feature_importance = np.abs(clf.coef_[0])\n",
    "\n",
    "        # 名前と重要度をデータフレームにまとめる\n",
    "        importance_df = pd.DataFrame({\n",
    "            'Channel': channel_names,\n",
    "            'Importance': feature_importance\n",
    "        })\n",
    "\n",
    "        # 特徴重要度の高いトップ5の特徨量を取得\n",
    "        top5_features = importance_df.sort_values(by='Importance', ascending=False).head(5)\n",
    "\n",
    "        # 棒グラフの表示\n",
    "        plt.figure(figsize=(8, 4))\n",
    "        plt.barh(top5_features['Channel'], top5_features['Importance'], color='skyblue')\n",
    "        plt.xlabel(\"Feature Importance\")\n",
    "        plt.title(\"Top 5 Feature importance of each EEG channel\")\n",
    "        plt.gca().invert_yaxis()  # 上位の特徴量を上に表示\n",
    "        plt.show()\n",
    "    return plt.show"
   ]
  },
  {
   "cell_type": "code",
   "execution_count": 3,
   "id": "78da7c00",
   "metadata": {},
   "outputs": [
    {
     "name": "stdout",
     "output_type": "stream",
     "text": [
      "Training Accuracy: 75.00%\n",
      "Test Accuracy: 50.00%\n"
     ]
    },
    {
     "data": {
      "image/png": "[encoded data removed]",
      "text/plain": [
       "<Figure size 576x288 with 1 Axes>"
      ]
     },
     "metadata": {
      "needs_background": "light"
     },
     "output_type": "display_data"
    },
    {
     "data": {
      "text/plain": [
       "<function matplotlib.pyplot.show(close=None, block=None)>"
      ]
     },
     "execution_count": 3,
     "metadata": {},
     "output_type": "execute_result"
    }
   ],
   "source": [
    "#時間ごと（１秒毎）\n",
    "# ラベルの作成（5秒閉じ、5秒開け）\n",
    "labels_close = [0] * 5 \n",
    "labels_open = [1] * 5 \n",
    "labels = labels_close + labels_open\n",
    "\n",
    "#14chデータ\n",
    "# データとラベルを1秒ごとに分割\n",
    "X = np.array([df.iloc[i*n_samples_per_second:(i+1)*n_samples_per_second, :-1].values for i in range(total_seconds)])\n",
    "\n",
    "# 1秒ごとのデータの平均を取得\n",
    "X = X.mean(axis=1)\n",
    "\n",
    "# 学習用とテスト用に分割\n",
    "X_train, X_test, y_train, y_test = train_test_split(X, labels, test_size=0.2, random_state=0)\n",
    "\n",
    "# SVMモデル作成\n",
    "clf1 = svm.SVC(kernel='linear')  # 線形カーネルを使用\n",
    "clf1.fit(X_train, y_train)\n",
    "\n",
    "# 訓練データに対する評価\n",
    "train_score = clf1.score(X_train, y_train)\n",
    "print(f\"Training Accuracy: {train_score*100:.2f}%\")\n",
    "\n",
    "# テストデータに対する評価\n",
    "test_score = clf1.score(X_test, y_test)\n",
    "print(f\"Test Accuracy: {test_score*100:.2f}%\")\n",
    "\n",
    "#plot\n",
    "plot_importance(raw, clf1)"
   ]
  },
  {
   "cell_type": "code",
   "execution_count": 4,
   "id": "2cc01059",
   "metadata": {},
   "outputs": [
    {
     "name": "stdout",
     "output_type": "stream",
     "text": [
      "Training Accuracy: 59.91%\n",
      "Test Accuracy: 60.16%\n"
     ]
    },
    {
     "data": {
      "image/png": "[encoded data removed]",
      "text/plain": [
       "<Figure size 576x288 with 1 Axes>"
      ]
     },
     "metadata": {
      "needs_background": "light"
     },
     "output_type": "display_data"
    },
    {
     "data": {
      "text/plain": [
       "<function matplotlib.pyplot.show(close=None, block=None)>"
      ]
     },
     "execution_count": 4,
     "metadata": {},
     "output_type": "execute_result"
    }
   ],
   "source": [
    "# Hzごと\n",
    "# 特徴量と目標変数を抽出する\n",
    "X = df.drop('State', axis=1)  # 'State'以外の列すべてを特徴量とします\n",
    "y = df['State']  # 'State'を目標変数とします\n",
    "\n",
    "# データを訓練データとテストデータに分割する\n",
    "X_train, X_test, y_train, y_test = train_test_split(X, y, test_size=0.2, random_state=0)  # テストデータを全体の20%に設定\n",
    "\n",
    "# SVMモデルを訓練する\n",
    "clf2 = svm.SVC(kernel='linear')  \n",
    "clf2.fit(X_train, y_train)  # モデルを訓練データで訓練する\n",
    "\n",
    "# 訓練データに対する評価\n",
    "train_score = clf2.score(X_train, y_train)\n",
    "print(f\"Training Accuracy: {train_score*100:.2f}%\")\n",
    "\n",
    "# テストデータに対する評価\n",
    "test_score = clf2.score(X_test, y_test)\n",
    "print(f\"Test Accuracy: {test_score*100:.2f}%\")\n",
    "\n",
    "#plot\n",
    "plot_importance(raw, clf2)"
   ]
  },
  {
   "cell_type": "code",
   "execution_count": null,
   "id": "80ae5e0a",
   "metadata": {},
   "outputs": [],
   "source": []
  }
 ],
 "metadata": {
  "kernelspec": {
   "display_name": "Python 3 (ipykernel)",
   "language": "python",
   "name": "python3"
  },
  "language_info": {
   "codemirror_mode": {
    "name": "ipython",
    "version": 3
   },
   "file_extension": ".py",
   "mimetype": "text/x-python",
   "name": "python",
   "nbconvert_exporter": "python",
   "pygments_lexer": "ipython3",
   "version": "3.9.7"
  }
 },
 "nbformat": 4,
 "nbformat_minor": 5
}
