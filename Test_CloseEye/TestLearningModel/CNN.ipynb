{
 "cells": [
  {
   "cell_type": "code",
   "execution_count": 1,
   "id": "e9d11fee",
   "metadata": {},
   "outputs": [
    {
     "name": "stderr",
     "output_type": "stream",
     "text": [
      "2023-05-26 16:50:24.159432: I tensorflow/core/platform/cpu_feature_guard.cc:193] This TensorFlow binary is optimized with oneAPI Deep Neural Network Library (oneDNN) to use the following CPU instructions in performance-critical operations:  SSE4.1 SSE4.2 AVX AVX2 FMA\n",
      "To enable them in other operations, rebuild TensorFlow with the appropriate compiler flags.\n"
     ]
    }
   ],
   "source": [
    "import pandas as pd\n",
    "import numpy as np\n",
    "from sklearn.model_selection import train_test_split\n",
    "from sklearn.preprocessing import StandardScaler\n",
    "from tensorflow.keras.models import Sequential\n",
    "from tensorflow.keras.layers import Dense, LSTM, Dense\n",
    "from tensorflow.keras.utils import to_categorical\n",
    "import tensorflow as tf\n",
    "import os\n",
    "os.environ[\"TF_FORCE_GPU_ALLOW_GROWTH\"]= \"true\""
   ]
  },
  {
   "cell_type": "code",
   "execution_count": 14,
   "id": "ada777cd",
   "metadata": {},
   "outputs": [],
   "source": [
    "def create_model():\n",
    "    model = Sequential()\n",
    "    model.add(tf.keras.layers.Conv1D (256, 5, padding=\"same\", activation=\"relu\", input_shape=(14,256))) # tf.keras.layers.Conv1D \n",
    "    model.add(tf.keras.layers.Flatten())\n",
    "    model.add(tf.keras.layers.Dense (512,activation=\"relu\")) \n",
    "    model.add(tf.keras.layers.Dense (2,activation=\"softmax\"))\n",
    "    \n",
    "    model.compile(loss='binary_crossentropy', optimizer='adam', metrics=['accuracy'])  # 損失関数はbinary_crossentropy\n",
    "    return model"
   ]
  },
  {
   "cell_type": "code",
   "execution_count": 15,
   "id": "3c6dca59",
   "metadata": {},
   "outputs": [
    {
     "name": "stdout",
     "output_type": "stream",
     "text": [
      "Epoch 1/10\n",
      "4/4 [==============================] - 1s 2ms/step - loss: 1.4707 - accuracy: 0.6250\n",
      "Epoch 2/10\n",
      "4/4 [==============================] - 0s 2ms/step - loss: 0.0088 - accuracy: 1.0000\n",
      "Epoch 3/10\n",
      "4/4 [==============================] - 0s 2ms/step - loss: 0.0858 - accuracy: 1.0000\n",
      "Epoch 4/10\n",
      "4/4 [==============================] - 0s 2ms/step - loss: 8.6633e-08 - accuracy: 1.0000\n",
      "Epoch 5/10\n",
      "4/4 [==============================] - 0s 2ms/step - loss: 6.2747e-08 - accuracy: 1.0000\n",
      "Epoch 6/10\n",
      "4/4 [==============================] - 0s 2ms/step - loss: 5.2610e-08 - accuracy: 1.0000\n",
      "Epoch 7/10\n",
      "4/4 [==============================] - 0s 2ms/step - loss: 4.7762e-08 - accuracy: 1.0000\n",
      "Epoch 8/10\n",
      "4/4 [==============================] - 0s 2ms/step - loss: 4.2914e-08 - accuracy: 1.0000\n",
      "Epoch 9/10\n",
      "4/4 [==============================] - 0s 2ms/step - loss: 3.9894e-08 - accuracy: 1.0000\n",
      "Epoch 10/10\n",
      "4/4 [==============================] - 0s 2ms/step - loss: 3.7375e-08 - accuracy: 1.0000\n",
      "WARNING:tensorflow:5 out of the last 9 calls to <function Model.make_test_function.<locals>.test_function at 0x7f88d02177f0> triggered tf.function retracing. Tracing is expensive and the excessive number of tracings could be due to (1) creating @tf.function repeatedly in a loop, (2) passing tensors with different shapes, (3) passing Python objects instead of tensors. For (1), please define your @tf.function outside of the loop. For (2), @tf.function has reduce_retracing=True option that can avoid unnecessary retracing. For (3), please refer to https://www.tensorflow.org/guide/function#controlling_retracing and https://www.tensorflow.org/api_docs/python/tf/function for  more details.\n",
      "1/1 [==============================] - 0s 82ms/step - loss: 3.5678e-08 - accuracy: 1.0000\n",
      "Training Accuracy: 100.0\n",
      "1/1 [==============================] - 0s 14ms/step - loss: 2.1753e-05 - accuracy: 1.0000\n",
      "Test Accuracy: 100.0\n"
     ]
    }
   ],
   "source": [
    "# データの読み込み\n",
    "df = pd.read_csv('Raw.csv')\n",
    "\n",
    "# 1秒ごとのデータに分割\n",
    "ch_count = 14\n",
    "n_samples_per_second = 256  # 256Hzのサンプリングレート\n",
    "total_seconds = 10  # 全体の秒数\n",
    "\n",
    "# ラベルの作成（5秒閉じ、5秒開け）\n",
    "labels_close = [0] * 5 \n",
    "labels_open = [1] * 5 \n",
    "labels = labels_close + labels_open\n",
    "labels = to_categorical(labels)\n",
    "\n",
    "# データとラベルを1秒ごとに分割\n",
    "X = np.array([df.iloc[i*n_samples_per_second:(i+1)*n_samples_per_second, :-1].values for i in range(total_seconds)])\n",
    "\n",
    "X = X.transpose(2,0,1)\n",
    "for i in range(ch_count):\n",
    "    scaler = StandardScaler()\n",
    "    X[i] = scaler.fit_transform(X[i])\n",
    "X = X.transpose(1,0,2)\n",
    "\n",
    "# 学習用とテスト用に分割\n",
    "X_train, X_test, y_train, y_test = train_test_split(X, labels, test_size=0.2, random_state=0)\n",
    "\n",
    "# モデル作成\n",
    "model = create_model()\n",
    "\n",
    "# 学習\n",
    "model.fit(X_train, y_train, epochs=10, batch_size=2, verbose=1)\n",
    "\n",
    "# 訓練データに対する評価\n",
    "train_scores = model.evaluate(X_train, y_train, verbose=1)\n",
    "print(f\"Training Accuracy: {train_scores[1]*100}\")\n",
    "\n",
    "# テストデータに対する評価\n",
    "test_scores = model.evaluate(X_test, y_test, verbose=1)\n",
    "print(f\"Test Accuracy: {test_scores[1]*100}\")"
   ]
  },
  {
   "cell_type": "code",
   "execution_count": 16,
   "id": "92546bee",
   "metadata": {},
   "outputs": [
    {
     "name": "stdout",
     "output_type": "stream",
     "text": [
      "Model: \"sequential_4\"\n",
      "_________________________________________________________________\n",
      " Layer (type)                Output Shape              Param #   \n",
      "=================================================================\n",
      " conv1d_4 (Conv1D)           (None, 14, 256)           327936    \n",
      "                                                                 \n",
      " flatten_4 (Flatten)         (None, 3584)              0         \n",
      "                                                                 \n",
      " dense_8 (Dense)             (None, 512)               1835520   \n",
      "                                                                 \n",
      " dense_9 (Dense)             (None, 2)                 1026      \n",
      "                                                                 \n",
      "=================================================================\n",
      "Total params: 2,164,482\n",
      "Trainable params: 2,164,482\n",
      "Non-trainable params: 0\n",
      "_________________________________________________________________\n"
     ]
    }
   ],
   "source": [
    "model.summary()"
   ]
  },
  {
   "cell_type": "code",
   "execution_count": null,
   "id": "56c34969",
   "metadata": {},
   "outputs": [],
   "source": []
  }
 ],
 "metadata": {
  "kernelspec": {
   "display_name": "Python 3 (ipykernel)",
   "language": "python",
   "name": "python3"
  },
  "language_info": {
   "codemirror_mode": {
    "name": "ipython",
    "version": 3
   },
   "file_extension": ".py",
   "mimetype": "text/x-python",
   "name": "python",
   "nbconvert_exporter": "python",
   "pygments_lexer": "ipython3",
   "version": "3.10.10"
  }
 },
 "nbformat": 4,
 "nbformat_minor": 5
}
