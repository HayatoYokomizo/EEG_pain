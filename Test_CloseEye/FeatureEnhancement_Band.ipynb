{
 "cells": [
  {
   "cell_type": "code",
   "execution_count": null,
   "id": "19f900ac",
   "metadata": {},
   "outputs": [],
   "source": [
    "#もとのデータにバンドパスフィルタを適用し、csvファイルに保存\n",
    "# CSVファイルからデータを読み込む\n",
    "data = pd.read_csv('epoc_X_data.csv')\n",
    "\n",
    "# チャンネル名を取得（'timestamp'を除く）\n",
    "ch_names = [col for col in data.columns if col != 'timestamp']\n",
    "\n",
    "# サンプリング周波数を設定\n",
    "sfreq = 128\n",
    "\n",
    "# バンドパスフィルタの範囲を定義\n",
    "bands = {'Delta': [0.5, 4],\n",
    "         'Theta': [4, 8],\n",
    "         'Alpha': [8, 13],\n",
    "         'Beta': [13, 30]}\n",
    "\n",
    "# 各チャンネルについて処理\n",
    "for ch in ch_names:\n",
    "    # データをMNEのRawオブジェクトに変換\n",
    "    raw = mne.io.RawArray([data[ch]], mne.create_info([ch], sfreq, ch_types='eeg'), verbose=False)\n",
    "\n",
    "    # 各バンドに対してバンドパスフィルタを適用し、新しい列を作成\n",
    "    for band, freq_range in bands.items():\n",
    "        filtered_data = raw.copy().filter(l_freq=freq_range[0], h_freq=freq_range[1]).get_data()[0]\n",
    "        data[f'{band}Filtered_{ch}'] = filtered_data"
   ]
  }
 ],
 "metadata": {
  "kernelspec": {
   "display_name": "Python 3 (ipykernel)",
   "language": "python",
   "name": "python3"
  },
  "language_info": {
   "codemirror_mode": {
    "name": "ipython",
    "version": 3
   },
   "file_extension": ".py",
   "mimetype": "text/x-python",
   "name": "python",
   "nbconvert_exporter": "python",
   "pygments_lexer": "ipython3",
   "version": "3.10.10"
  }
 },
 "nbformat": 4,
 "nbformat_minor": 5
}
