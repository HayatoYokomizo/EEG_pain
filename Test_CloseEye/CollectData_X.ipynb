{
 "cells": [
  {
   "cell_type": "code",
   "execution_count": 1,
   "id": "3c8bc2a5",
   "metadata": {},
   "outputs": [],
   "source": [
    "import csv\n",
    "import time\n",
    "from pylsl import StreamInlet, resolve_byprop\n",
    "from datetime import datetime, timedelta\n",
    "import matplotlib.pyplot as plt\n",
    "\n",
    "# CSVファイルにデータを保存する関数\n",
    "def save_data_to_csv(start_time, timestamp, data, filename):\n",
    "    fieldnames = ['timestamp', 'AF3', 'F7', 'F3', 'FC5', 'T7', 'P7', 'O1', 'O2', 'P8', 'T8', 'FC6', 'F4', 'F8', 'AF4']\n",
    "    with open(filename, 'a', newline='') as csvfile:\n",
    "        writer = csv.DictWriter(csvfile, fieldnames=fieldnames)\n",
    "\n",
    "        # ヘッダーがない場合は、ヘッダーを書き込む\n",
    "        csvfile.seek(0, 2)\n",
    "        if csvfile.tell() == 0:\n",
    "            writer.writeheader()\n",
    "\n",
    "        # Start time subtraction for relative timestamps\n",
    "        relative_timestamp = lsl_to_local_datetime(timestamp) - start_time\n",
    "        row = {'timestamp': relative_timestamp.total_seconds()}\n",
    "        row.update({fieldnames[i + 1]: data[i+3] for i in range(len(data)-5)})\n",
    "        writer.writerow(row)\n",
    "\n",
    "# データをプロットする関数\n",
    "def plot_data(data, channels):\n",
    "    timestamps = [float(row['timestamp']) for row in data]\n",
    "\n",
    "    plt.figure(figsize=(15, 8))\n",
    "\n",
    "    for channel in channels:\n",
    "        values = [float(row[channel]) for row in data]\n",
    "        plt.plot(timestamps, values, label=channel)\n",
    "\n",
    "    plt.xlabel('Timestamp (s)')\n",
    "    plt.ylabel('Sensor Value')\n",
    "    plt.title('Brainwave Data')\n",
    "    plt.legend()\n",
    "    plt.show()\n",
    "\n",
    "def lsl_to_local_datetime(lsl_timestamp):\n",
    "    return datetime.fromtimestamp(lsl_timestamp)"
   ]
  },
  {
   "cell_type": "code",
   "execution_count": 2,
   "id": "f744d406",
   "metadata": {},
   "outputs": [
    {
     "name": "stderr",
     "output_type": "stream",
     "text": [
      "2023-05-18 15:52:50.647 (  33.372s) [python          ]      netinterfaces.cpp:89    INFO| netif 'lo' (status: 0, multicast: 1, broadcast: 0)\n",
      "2023-05-18 15:52:50.647 (  33.372s) [python          ]      netinterfaces.cpp:89    INFO| netif 'eno1' (status: 4096, multicast: 1, broadcast: 2)\n",
      "2023-05-18 15:52:50.647 (  33.372s) [python          ]      netinterfaces.cpp:89    INFO| netif 'lo' (status: 0, multicast: 1, broadcast: 0)\n",
      "2023-05-18 15:52:50.647 (  33.372s) [python          ]      netinterfaces.cpp:89    INFO| netif 'eno1' (status: 4096, multicast: 1, broadcast: 2)\n",
      "2023-05-18 15:52:50.647 (  33.372s) [python          ]      netinterfaces.cpp:102   INFO| \tIPv4 addr: c0a849e2\n",
      "2023-05-18 15:52:50.647 (  33.372s) [python          ]      netinterfaces.cpp:89    INFO| netif 'lo' (status: 0, multicast: 1, broadcast: 0)\n",
      "2023-05-18 15:52:50.647 (  33.372s) [python          ]      netinterfaces.cpp:89    INFO| netif 'eno1' (status: 4096, multicast: 1, broadcast: 2)\n",
      "2023-05-18 15:52:50.647 (  33.372s) [python          ]      netinterfaces.cpp:105   INFO| \tIPv6 addr: fe80::e096:6a4e:52a7:746d%eno1\n",
      "2023-05-18 15:52:50.647 (  33.372s) [python          ]         api_config.cpp:270   INFO| Loaded default config\n"
     ]
    },
    {
     "ename": "RuntimeError",
     "evalue": "No EEG stream found. Make sure the EmotivPro LSL Connector is running.",
     "output_type": "error",
     "traceback": [
      "\u001b[0;31m---------------------------------------------------------------------------\u001b[0m",
      "\u001b[0;31mRuntimeError\u001b[0m                              Traceback (most recent call last)",
      "Cell \u001b[0;32mIn[2], line 5\u001b[0m\n\u001b[1;32m      2\u001b[0m streams \u001b[38;5;241m=\u001b[39m resolve_byprop(\u001b[38;5;124m'\u001b[39m\u001b[38;5;124mtype\u001b[39m\u001b[38;5;124m'\u001b[39m, \u001b[38;5;124m'\u001b[39m\u001b[38;5;124mEEG\u001b[39m\u001b[38;5;124m'\u001b[39m, timeout\u001b[38;5;241m=\u001b[39m\u001b[38;5;241m5\u001b[39m)\n\u001b[1;32m      4\u001b[0m \u001b[38;5;28;01mif\u001b[39;00m \u001b[38;5;129;01mnot\u001b[39;00m streams:\n\u001b[0;32m----> 5\u001b[0m     \u001b[38;5;28;01mraise\u001b[39;00m \u001b[38;5;167;01mRuntimeError\u001b[39;00m(\u001b[38;5;124m\"\u001b[39m\u001b[38;5;124mNo EEG stream found. Make sure the EmotivPro LSL Connector is running.\u001b[39m\u001b[38;5;124m\"\u001b[39m)\n\u001b[1;32m      7\u001b[0m \u001b[38;5;66;03m# ストリームを開く\u001b[39;00m\n\u001b[1;32m      8\u001b[0m inlet \u001b[38;5;241m=\u001b[39m StreamInlet(streams[\u001b[38;5;241m0\u001b[39m])\n",
      "\u001b[0;31mRuntimeError\u001b[0m: No EEG stream found. Make sure the EmotivPro LSL Connector is running."
     ]
    }
   ],
   "source": [
    "# EPOCXのストリームを探す\n",
    "streams = resolve_byprop('type', 'EEG', timeout=5)\n",
    "\n",
    "if not streams:\n",
    "    raise RuntimeError(\"No EEG stream found. Make sure the EmotivPro LSL Connector is running.\")\n",
    "\n",
    "# ストリームを開く\n",
    "inlet = StreamInlet(streams[0])\n",
    "\n",
    "print(\"Connected to Emotiv EPOCX stream.\")\n",
    "\n",
    "# CSVファイル名を指定\n",
    "filename = 'epoc_X_data.csv'\n",
    "\n",
    "# ファイルを上書きモードで開いてすぐ閉じることで、中身を空にする\n",
    "with open(filename, 'w') as f:\n",
    "    pass\n",
    "\n",
    "# データを取得し、CSVファイルに記録する\n",
    "duration = 10  # 収集するデータの期間（秒）\n",
    "start_time = lsl_to_local_datetime(inlet.time_correction())\n",
    "\n",
    "while time.time() - start_time.total_seconds() < duration:\n",
    "    sample, timestamp = inlet.pull_sample()\n",
    "    save_data_to_csv(start_time, timestamp, sample, filename)\n",
    "    time.sleep(1/128.0)  # 128Hzでデータを取得する\n",
    "\n",
    "print(\"done.\")\n",
    "\n",
    "# plot実行\n",
    "if __name__ == \"__main__\":\n",
    "    filename = 'epoc_X_data.csv'\n",
    "    data = load_data_from_csv(filename)\n",
    "\n",
    "    # 選択したチャンネルをプロット\n",
    "    channels = ['AF3', 'F7', 'F3', 'FC5', 'T7', 'P7', 'O1', 'O2', 'P8', 'T8', 'FC6', 'F4', 'F8', 'AF4']\n",
    "    plot_data(data, channels)"
   ]
  },
  {
   "cell_type": "code",
   "execution_count": null,
   "id": "c929a15e",
   "metadata": {},
   "outputs": [],
   "source": []
  }
 ],
 "metadata": {
  "kernelspec": {
   "display_name": "Python 3 (ipykernel)",
   "language": "python",
   "name": "python3"
  },
  "language_info": {
   "codemirror_mode": {
    "name": "ipython",
    "version": 3
   },
   "file_extension": ".py",
   "mimetype": "text/x-python",
   "name": "python",
   "nbconvert_exporter": "python",
   "pygments_lexer": "ipython3",
   "version": "3.10.10"
  }
 },
 "nbformat": 4,
 "nbformat_minor": 5
}
