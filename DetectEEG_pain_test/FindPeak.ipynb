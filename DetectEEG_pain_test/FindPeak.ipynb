{
 "cells": [
  {
   "cell_type": "code",
   "execution_count": 2,
   "id": "e371fda6",
   "metadata": {},
   "outputs": [
    {
     "name": "stdout",
     "output_type": "stream",
     "text": [
      "Creating RawArray with float64 data, n_channels=14, n_times=256\n",
      "    Range : 0 ... 255 =      0.000 ...     0.996 secs\n",
      "Ready.\n",
      "Not setting metadata\n",
      "128 matching events found\n",
      "Setting baseline interval to [-1.0, 0.0] sec\n",
      "Applying baseline correction (mode: mean)\n",
      "0 projection items activated\n",
      "The peak is at -1000.0 ms.\n"
     ]
    },
    {
     "name": "stderr",
     "output_type": "stream",
     "text": [
      "/tmp/ipykernel_179400/1279477510.py:27: RuntimeWarning: evoked object is empty (based on less than 1 epoch)\n",
      "  evoked = epochs.average()\n"
     ]
    }
   ],
   "source": [
    "import mne\n",
    "import numpy as np\n",
    "import pandas as pd\n",
    "from scipy.signal import find_peaks\n",
    "\n",
    "# CSVファイルからデータを読み込む\n",
    "data = pd.read_csv('DP_droptime1.csv')\n",
    "\n",
    "# EPOC Xの14ch EEGデータを取得する\n",
    "channels = ['AF3', 'F7', 'F3', 'FC5', 'T7', 'P7', 'O1', 'O2', 'P8', 'T8', 'FC6', 'F4', 'F8', 'AF4']\n",
    "eeg_data = data[channels].T\n",
    "\n",
    "# データからMNEのRawオブジェクトを作成する\n",
    "info = mne.create_info(ch_names=channels, sfreq=256, ch_types='eeg')\n",
    "raw = mne.io.RawArray(eeg_data, info)\n",
    "\n",
    "# 刺激が与えられたタイミングを探す（Markerが初めて1になったインデックス）\n",
    "stim_indices = data.index[data['Marker'] == 1].tolist()\n",
    "\n",
    "# 刺激が与えられたタイミングを設定する（256Hzでのサンプル数に変換する）\n",
    "events = np.array([[idx, 0, 1] for idx in stim_indices])\n",
    "\n",
    "# エポックを作成する（刺激前1秒、刺激後2秒のエポックを作成）\n",
    "epochs = mne.Epochs(raw, events, tmin=-1, tmax=2, baseline=(None, 0))\n",
    "\n",
    "# ERPを計算する\n",
    "evoked = epochs.average()\n",
    "\n",
    "# ERPのピークを見つける（最大値のピークを探す）\n",
    "peak_time = evoked.times[np.argmax(evoked.data)]\n",
    "\n",
    "print(f'The peak is at {peak_time*1000} ms.')\n"
   ]
  },
  {
   "cell_type": "code",
   "execution_count": null,
   "id": "6238988e",
   "metadata": {},
   "outputs": [],
   "source": []
  }
 ],
 "metadata": {
  "kernelspec": {
   "display_name": "Python 3 (ipykernel)",
   "language": "python",
   "name": "python3"
  },
  "language_info": {
   "codemirror_mode": {
    "name": "ipython",
    "version": 3
   },
   "file_extension": ".py",
   "mimetype": "text/x-python",
   "name": "python",
   "nbconvert_exporter": "python",
   "pygments_lexer": "ipython3",
   "version": "3.10.10"
  }
 },
 "nbformat": 4,
 "nbformat_minor": 5
}
