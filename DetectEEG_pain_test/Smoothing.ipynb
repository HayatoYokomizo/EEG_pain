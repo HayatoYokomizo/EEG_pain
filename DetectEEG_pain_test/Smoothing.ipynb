{
 "cells": [
  {
   "cell_type": "code",
   "execution_count": 1,
   "id": "c7e897d8",
   "metadata": {},
   "outputs": [],
   "source": [
    "import pandas as pd\n",
    "import numpy as np\n",
    "from scipy.signal import convolve\n",
    "\n",
    "# CSVからデータを読み込む\n",
    "df = pd.read_csv('DetectPain_1.csv')\n",
    "\n",
    "# EEGチャネル名\n",
    "eeg_channels = ['AF3', 'F7', 'F3', 'FC5', 'T7', 'P7', 'O1', 'O2', 'P8', 'T8', 'FC6', 'F4', 'F8', 'AF4']\n",
    "\n",
    "# 平滑化（ハミングウィンドウを適用した重み付き平均）\n",
    "window_size = 10  # ウィンドウサイズは適宜調整\n",
    "window = np.hamming(window_size)\n",
    "for channel in eeg_channels:\n",
    "    df[channel] = convolve(df[channel], window, mode='same') / sum(window)\n",
    "\n",
    "# 平滑化したデータを新たなCSVファイルに保存\n",
    "df.to_csv('DP_smoothed1.csv', index=False)"
   ]
  },
  {
   "cell_type": "code",
   "execution_count": null,
   "id": "ffd7e438",
   "metadata": {},
   "outputs": [],
   "source": []
  }
 ],
 "metadata": {
  "kernelspec": {
   "display_name": "Python 3 (ipykernel)",
   "language": "python",
   "name": "python3"
  },
  "language_info": {
   "codemirror_mode": {
    "name": "ipython",
    "version": 3
   },
   "file_extension": ".py",
   "mimetype": "text/x-python",
   "name": "python",
   "nbconvert_exporter": "python",
   "pygments_lexer": "ipython3",
   "version": "3.10.10"
  }
 },
 "nbformat": 4,
 "nbformat_minor": 5
}
