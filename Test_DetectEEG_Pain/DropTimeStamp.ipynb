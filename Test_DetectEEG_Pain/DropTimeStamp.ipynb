{
 "cells": [
  {
   "cell_type": "code",
   "execution_count": 2,
   "id": "4c76663a",
   "metadata": {},
   "outputs": [],
   "source": [
    "import pandas as pd"
   ]
  },
  {
   "cell_type": "code",
   "execution_count": 4,
   "id": "3cac32cf",
   "metadata": {},
   "outputs": [],
   "source": [
    "#OpenEyes.csv, CloseEyes.csv, OpenEyes_NoiseRemoval_A.csv, CloseEyes_NoiseRemoval_A.csv\n",
    "#timestamp行を除去する\n",
    "\n",
    "R_csv = [\"DP_+-05_1.csv\", \"DP_+-05_2.csv\", \"DP_+-05_3.csv\"]\n",
    "S_csv = [\"DP_droptime1.csv\", \"DP_droptime2.csv\", \"DP_droptime3.csv\"]\n",
    "\n",
    "for i in range(len(R_csv)):\n",
    "    # CSVファイルを読み込む\n",
    "    \n",
    "    df = pd.read_csv(R_csv[i])\n",
    "    \n",
    "    # タイムスタンプの列を除去する\n",
    "    df = df.drop('Timestamp', axis=1)\n",
    "    \n",
    "    # 結果を新しいCSVファイルに書き込む\n",
    "    df.to_csv(S_csv[i], index=False)\n"
   ]
  },
  {
   "cell_type": "code",
   "execution_count": 3,
   "id": "37bd1bbc",
   "metadata": {},
   "outputs": [],
   "source": [
    "#OpenEyes_Band.csv, CloseEyes_Band.csv, OpenEyes_NoiseRemoval_A_Band.csv, CloseEyes_NoiseRemoval_A_Band.csv\n",
    "#timestamp行,脳波生データを除去する\n",
    "\n",
    "R_csv = [\"OpenEyes_Band.csv\", \"CloseEyes_Band.csv\", \"OpenEyes_NoiseRemoval_A_Band.csv\", \"CloseEyes_NoiseRemoval_A_Band.csv\"]\n",
    "S_csv = [\"OEB_NT.csv\", \"CEB_NT.csv\", \"OEB_NT_NR.csv\", \"CEB_NT_NR.csv\"]\n",
    "\n",
    "for i in range(len(R_csv)):\n",
    "    # CSVファイルを読み込む\n",
    "    \n",
    "    df = pd.read_csv(R_csv[i])\n",
    "    \n",
    "    # バンドパスフィルターによって得られたデータの列のみを残す\n",
    "    filtered_columns = [col for col in df.columns if 'Filtered' in col]\n",
    "    df = df[filtered_columns]\n",
    "    \n",
    "    # 結果を新しいCSVファイルに書き込む\n",
    "    df.to_csv(S_csv[i], index=False)\n"
   ]
  },
  {
   "cell_type": "code",
   "execution_count": null,
   "id": "fb303a6a",
   "metadata": {},
   "outputs": [],
   "source": []
  }
 ],
 "metadata": {
  "kernelspec": {
   "display_name": "Python 3 (ipykernel)",
   "language": "python",
   "name": "python3"
  },
  "language_info": {
   "codemirror_mode": {
    "name": "ipython",
    "version": 3
   },
   "file_extension": ".py",
   "mimetype": "text/x-python",
   "name": "python",
   "nbconvert_exporter": "python",
   "pygments_lexer": "ipython3",
   "version": "3.10.10"
  }
 },
 "nbformat": 4,
 "nbformat_minor": 5
}
